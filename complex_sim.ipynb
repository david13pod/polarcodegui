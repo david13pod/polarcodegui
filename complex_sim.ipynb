{
 "cells": [
  {
   "cell_type": "code",
   "execution_count": null,
   "source": [
    "import numpy as np\n",
    "from polarcodes import *\n",
    "import statistics as st\n",
    "import time"
   ],
   "outputs": [],
   "metadata": {}
  },
  {
   "cell_type": "code",
   "execution_count": null,
   "source": [
    "# System input\n",
    "msg_len=[180,180,180]\n",
    "channel='ucl'  # ucl for uplink channel and dcl for downlink channel\n",
    "desired_rate=[0.16, 0.3, 0.7]\n",
    "use_ratematching=True #Activate rate matching\n",
    "sim_time=5000 # number of blocks\n",
    "List_n = 4 # list size for SCL decoder\n",
    "design_SNR  = Sim_utils.snr_gen(0,28,0.2)"
   ],
   "outputs": [],
   "metadata": {}
  },
  {
   "cell_type": "code",
   "execution_count": null,
   "source": [
    "# myPC = PolarCode(N, M, k, shorten_params)\n",
    "start_time2 = time.time()\n",
    "\n",
    "msg_len=msg_len # information length\n",
    "crc_n=Sim_utils.crc_selector(msg_len,channel) # crc polynomial generator length\n",
    "k=list(crc_n+np.array(msg_len)) # crc coded information length K\n",
    "rate=desired_rate # A/E desired system rate\n",
    "M=(np.array(msg_len)/np.array(rate))  #codeword E = A/R\n",
    "for ii in range(0,len(msg_len)):\n",
    "    if k[ii] >= M[ii]:\n",
    "        raise ValueError(f'crc coded information {k[ii]} can not be greater than the codeword {M[ii]} in length')\n",
    "M=list(M.astype(int))\n",
    "N = Sim_utils.mothercode(channel,k,M) # mothercode N\n",
    "useRM=use_ratematching # Rate matching activator: True To activate rate matching False to deactivate. M == N when rate matching is not used \n",
    "if useRM == False:\n",
    "    M=N  # no rate matching M == N\n",
    "match_rate=list(np.array(k)/np.array(M)) # match rate K/E\n",
    "design_SNR  = design_SNR # for bler plot\n",
    "construction='5g' # construction type\n",
    "sim_time=sim_time # number of blocks\n",
    "List_n = List_n # list size for SCL decoder\n",
    "BER_avged=[]\n",
    "BLER_list=[]\n",
    "#time_list=[]\n",
    "for snr in design_SNR:\n",
    "    BER=[]\n",
    "    BLER=[]\n",
    "    crc_usage_temp=[]\n",
    "    for i in range(0,len(msg_len)):\n",
    "        ber_temp = []\n",
    "        bler_temp=0\n",
    "        myPC=Sim_utils.matching_scheme_selector(N[i],M[i],k[i],match_rate[i],useRM,snr,construction)\n",
    "        # print(myPC, \"\\n\\n\")\n",
    "        #time_temp=[]\n",
    "        #start_time3 = time.time()\n",
    "            \n",
    "        for blk in range(0,sim_time):\n",
    "\n",
    "            # set message\n",
    "            my_message = np.random.randint(2, size=msg_len[i])\n",
    "            myPC.set_message(my_message,crc_n[i])\n",
    "            # print(\"The message is:\", my_message)\n",
    "\n",
    "            # encode message\n",
    "            Encode(myPC)\n",
    "            # print(\"The coded message is:\", myPC.get_codeword())\n",
    "\n",
    "            # transmit the codeword and get likelihoods\n",
    "            AWGN(myPC, snr)\n",
    "            # print(\"The log-likelihoods are:\", myPC.likelihoods)\n",
    "\n",
    "            # decode the received codeword\n",
    "            # decoders: 'scd' and 'SCL'\n",
    "            # Decode(myPC) #to use scd decoder\n",
    "            Decode(myPC, list=List_n, decoder_name ='SCL')\n",
    "            # print(\"The decoded message is:\", myPC.message_received)\n",
    "\n",
    "            errors=len([w for w in range(len(myPC.message_received))  #sum errors per block\n",
    "                if myPC.message_received[w] != myPC.message[w] ])\n",
    "            ber_temp.append(errors / msg_len[i])\n",
    "            ber_temp=[st.mean(ber_temp)]\n",
    "            if errors > 0: # cal bler\n",
    "                bler_temp+=1\n",
    "        #time_temp.append(time.time() - start_time3)\n",
    "        BER.append(float(ber_temp[0]))\n",
    "        BLER.append(bler_temp/sim_time)\n",
    "\n",
    "    BER_avged.append(BER)\n",
    "    BLER_list.append(BLER)\n",
    "    #time_list.append(time_temp)\n",
    "\n",
    "print( time.time() - start_time2, \"seconds\")"
   ],
   "outputs": [],
   "metadata": {}
  },
  {
   "cell_type": "code",
   "execution_count": null,
   "source": [
    "Sim_utils.sim_plot(BLER_list,design_SNR,msg_len,N,rate,match_rate,List_n)"
   ],
   "outputs": [],
   "metadata": {}
  }
 ],
 "metadata": {
  "interpreter": {
   "hash": "48da0e38e3b03eb189ffe7fbd46f35cefd9d84b17d3931d968719a4c04bf9bfd"
  },
  "kernelspec": {
   "name": "python3",
   "display_name": "Python 3.8.5 64-bit ('base': conda)"
  },
  "language_info": {
   "codemirror_mode": {
    "name": "ipython",
    "version": 3
   },
   "file_extension": ".py",
   "mimetype": "text/x-python",
   "name": "python",
   "nbconvert_exporter": "python",
   "pygments_lexer": "ipython3",
   "version": "3.8.5"
  },
  "orig_nbformat": 2
 },
 "nbformat": 4,
 "nbformat_minor": 2
}