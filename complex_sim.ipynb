{
 "cells": [
  {
   "cell_type": "code",
   "execution_count": 1,
   "metadata": {},
   "outputs": [],
   "source": [
    "import numpy as np\n",
    "from polarcodes import *\n",
    "from polarcodes import Sim_utils\n",
    "import statistics as st\n",
    "import time"
   ]
  },
  {
   "cell_type": "code",
   "execution_count": 4,
   "metadata": {},
   "outputs": [],
   "source": [
    "# myPC = PolarCode(N, M, k, shorten_params)\n",
    "start_time2 = time.time()\n",
    "\n",
    "msg_len=[70,70,70] # information length\n",
    "crc_n=Sim_utils.crc_selector(msg_len,'ucl') # crc polynomial generator length\n",
    "k=list(crc_n+np.array(msg_len)) # crc coded information length K\n",
    "N=[256,256,256] # mothercode N\n",
    "M=[110,200,300] #codeword E\n",
    "match_rate=list(np.array(k)/np.array(M)) # K/E\n",
    "rate=list(np.array(msg_len)/np.array(M)) # A/E\n",
    "design_SNR  = Sim_utils.snr_gen(-0.2,30,.2)\n",
    "construction='5g' # construction type\n",
    "sim_time=100 # number of blocks\n",
    "useRM=1 # Rate matching activator: 1 To activate rate matching zero to deactivate. M == N when rate matching is not used \n",
    "List_n = 8 # list size for SCL decoder\n",
    "BER_avged=[]\n",
    "BLER_list=[]\n",
    "for snr in design_SNR:\n",
    "    BER=[]\n",
    "    BLER=[]\n",
    "    crc_usage_temp=[]\n",
    "    for i in range(0,len(msg_len)):\n",
    "        ber_temp = []\n",
    "        bler_temp=0\n",
    "        myPC=Sim_utils.matching_scheme_selector(N[i],M[i],k[i],match_rate[i],useRM,snr,construction)\n",
    "        # print(myPC, \"\\n\\n\")\n",
    "            \n",
    "        for blk in range(0,sim_time):\n",
    "\n",
    "            # set message\n",
    "            my_message = np.random.randint(2, size=msg_len[i])\n",
    "            myPC.set_message(my_message,crc_n[i])\n",
    "            # print(\"The message is:\", my_message)\n",
    "\n",
    "            # encode message\n",
    "            Encode(myPC)\n",
    "            # print(\"The coded message is:\", myPC.get_codeword())\n",
    "\n",
    "            # transmit the codeword and get likelihoods\n",
    "            AWGN(myPC, snr)\n",
    "            # print(\"The log-likelihoods are:\", myPC.likelihoods)\n",
    "\n",
    "            # decode the received codeword\n",
    "            # decoders: 'scd' and 'SCL'\n",
    "            # Decode(myPC) #to use scd decoder\n",
    "            Decode(myPC, list=List_n, decoder_name ='SCL')\n",
    "            # print(\"The decoded message is:\", myPC.message_received)\n",
    "\n",
    "            errors=len([w for w in range(len(myPC.message_received))  #sum errors per block\n",
    "                if myPC.message_received[w] != myPC.message[w] ])\n",
    "            ber_temp.append(errors / msg_len[i])\n",
    "            ber_temp=[st.mean(ber_temp)]\n",
    "            if errors > 0: # cal bler\n",
    "                bler_temp+=1\n",
    "        BER.append(float(ber_temp[0]))\n",
    "        BLER.append(bler_temp/sim_time)\n",
    "\n",
    "    BER_avged.append(BER)\n",
    "    BLER_list.append(BLER)\n",
    "\n",
    "print( time.time() - start_time2, \"seconds\")"
   ]
  },
  {
   "cell_type": "code",
   "execution_count": null,
   "metadata": {},
   "outputs": [],
   "source": [
    "Sim_utils.sim_plot(BLER_list,design_SNR,msg_len,N,rate,match_rate,List_n)"
   ]
  },
  {
   "cell_type": "code",
   "execution_count": 1,
   "metadata": {},
   "outputs": [],
   "source": [
    "# BLER_list"
   ]
  },
  {
   "cell_type": "code",
   "execution_count": 89,
   "metadata": {},
   "outputs": [],
   "source": []
  },
  {
   "cell_type": "code",
   "execution_count": null,
   "metadata": {},
   "outputs": [],
   "source": []
  }
 ],
 "metadata": {
  "interpreter": {
   "hash": "48da0e38e3b03eb189ffe7fbd46f35cefd9d84b17d3931d968719a4c04bf9bfd"
  },
  "kernelspec": {
   "display_name": "Python 3.8.5 64-bit ('base': conda)",
   "name": "python3"
  },
  "language_info": {
   "codemirror_mode": {
    "name": "ipython",
    "version": 3
   },
   "file_extension": ".py",
   "mimetype": "text/x-python",
   "name": "python",
   "nbconvert_exporter": "python",
   "pygments_lexer": "ipython3",
   "version": "3.8.5"
  },
  "orig_nbformat": 2
 },
 "nbformat": 4,
 "nbformat_minor": 2
}